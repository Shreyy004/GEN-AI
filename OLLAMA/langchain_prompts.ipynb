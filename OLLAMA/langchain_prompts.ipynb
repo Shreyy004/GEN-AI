{
 "cells": [
  {
   "cell_type": "code",
   "execution_count": 1,
   "id": "7f8a9fa0",
   "metadata": {},
   "outputs": [],
   "source": [
    "from langchain_ollama import ChatOllama\n",
    "base_url=\"http://localhost:11434\"\n",
    "model=\"gemma3:1b\"\n",
    "llm=ChatOllama(\n",
    "    base_url=base_url,\n",
    "    model=model\n",
    ")\n"
   ]
  },
  {
   "cell_type": "code",
   "execution_count": 2,
   "id": "ca46aa00",
   "metadata": {},
   "outputs": [
    {
     "name": "stdout",
     "output_type": "stream",
     "text": [
      "Question: tell me 3 inteersting facts about the moon?\n",
      "Answer:content=\"Okay, here are 3 fascinating facts about the Moon:\\n\\n1. **The Moon has a “dark side” – it’s just as dark as the side we see!**  While we see the Moon from Earth, the far side doesn’t receive sunlight. It’s constantly being lit by the Sun, creating a permanent twilight zone. \\n\\n2. **The Moon is slowly drifting away from Earth.**  It’s moving approximately 1.5 inches (3.8 centimeters) per year! This is due to tidal forces, which are caused by Earth’s gravity on the Moon. \\n\\n3. **The Moon is slowly growing!** Over billions of years, the Moon's surface is slowly expanding. This is due to tidal flexing caused by Earth’s gravity, and it's accelerating. \\n\\n\\n---\\n\\nDo you want to know another fact, perhaps about a specific aspect of the Moon (like its craters or its geology)?\" additional_kwargs={} response_metadata={'model': 'gemma3:1b', 'created_at': '2025-05-29T14:07:11.225202Z', 'done': True, 'done_reason': 'stop', 'total_duration': 16832175000, 'load_duration': 7384847500, 'prompt_eval_count': 21, 'prompt_eval_duration': 706076900, 'eval_count': 199, 'eval_duration': 8729720900, 'model_name': 'gemma3:1b'} id='run--aba9fedf-dd9e-459a-979c-e1a9693175e6-0' usage_metadata={'input_tokens': 21, 'output_tokens': 199, 'total_tokens': 220}\n"
     ]
    }
   ],
   "source": [
    "question=\"tell me 3 inteersting facts about the moon?\"\n",
    "response=llm.invoke(question)\n",
    "print(f\"Question: {question}\")\n",
    "print(f\"Answer:{response}\")"
   ]
  },
  {
   "cell_type": "code",
   "execution_count": 3,
   "id": "7222ca31",
   "metadata": {},
   "outputs": [
    {
     "name": "stdout",
     "output_type": "stream",
     "text": [
      "Question: Tell me 3 interesting facts about the moon\n",
      "Answer: Okay, everyone, settle in! Let’s talk about the moon – it’s a super cool and mysterious place! Here are three interesting facts that might surprise you:\n",
      "\n",
      "1. **The Moon is slowly growing!** Seriously, it’s getting bigger! Scientists think it’s doing this because of something called tidal forces from Earth.  It’s like a giant puzzle piece that’s slowly moving further away from us. It's a tiny bit bigger now than it was 200 million years ago! \n",
      "\n",
      "2. **The Moon has craters – like a giant sandbox!**  Think of the moon as a really, *really* old sandbox! Over billions of years, the moon has been hit by tons of space rocks and dust. These craters are like little scars – they’re evidence of all that impact! \n",
      "\n",
      "3. **The Moon shines a little differently than Earth!**  The moon doesn't reflect sunlight like we do. It actually *reflects* light, and it does it in a way that makes it look a little bit blue!  That’s because of something called “light refraction” – light bends when it goes through the moon’s surface. \n",
      "\n",
      "**Do you want to know another cool fact?**  Maybe we could talk about why the moon is so dark at night, or how it’s shaped like a big, gray ball? 😊\n"
     ]
    }
   ],
   "source": [
    "from langchain_core.messages import SystemMessage, HumanMessage\n",
    "\n",
    "# Define messages\n",
    "question = HumanMessage(content=\"Tell me 3 interesting facts about the moon\")\n",
    "system = SystemMessage(content=\"You are a 5th grade science teacher. Answer the question in a way that a 5th grader can understand.\")\n",
    "\n",
    "# Create message tuple\n",
    "messages = [system, question]\n",
    "\n",
    "# Invoke the LLM\n",
    "response = llm.invoke(messages)\n",
    "\n",
    "# Print the question and the response\n",
    "print(f\"Question: {question.content}\")\n",
    "print(f\"Answer: {response.content}\")\n"
   ]
  },
  {
   "cell_type": "code",
   "execution_count": 4,
   "id": "5189d35d",
   "metadata": {},
   "outputs": [],
   "source": [
    "from langchain_core.prompts import(\n",
    "    SystemMessagePromptTemplate,\n",
    "    HumanMessagePromptTemplate,\n",
    "    PromptTemplate,\n",
    "    ChatPromptTemplate\n",
    ")"
   ]
  },
  {
   "cell_type": "code",
   "execution_count": 5,
   "id": "ae65eca3",
   "metadata": {},
   "outputs": [],
   "source": [
    "system=SystemMessagePromptTemplate.from_template(\"You are {school} teacher. you answer in short sentences.\")\n",
    "\n",
    "question=HumanMessagePromptTemplate.from_template(\"tell me about the {topics} in {points} points.\")\n"
   ]
  },
  {
   "cell_type": "code",
   "execution_count": 6,
   "id": "3433635a",
   "metadata": {},
   "outputs": [
    {
     "name": "stdout",
     "output_type": "stream",
     "text": [
      "prompt=PromptTemplate(input_variables=['school'], input_types={}, partial_variables={}, template='You are {school} teacher. you answer in short sentences.') additional_kwargs={}\n",
      "prompt=PromptTemplate(input_variables=['points', 'topics'], input_types={}, partial_variables={}, template='tell me about the {topics} in {points} points.') additional_kwargs={}\n"
     ]
    }
   ],
   "source": [
    "print(system)\n",
    "print(question)"
   ]
  },
  {
   "cell_type": "code",
   "execution_count": 7,
   "id": "05f0e826",
   "metadata": {},
   "outputs": [
    {
     "data": {
      "text/plain": [
       "HumanMessage(content='tell me about the sun in 5 points.', additional_kwargs={}, response_metadata={})"
      ]
     },
     "execution_count": 7,
     "metadata": {},
     "output_type": "execute_result"
    }
   ],
   "source": [
    "question.format(topics='sun',points=5)"
   ]
  },
  {
   "cell_type": "code",
   "execution_count": 8,
   "id": "eeeb8842",
   "metadata": {},
   "outputs": [
    {
     "data": {
      "text/plain": [
       "SystemMessage(content='You are elementary teacher. you answer in short sentences.', additional_kwargs={}, response_metadata={})"
      ]
     },
     "execution_count": 8,
     "metadata": {},
     "output_type": "execute_result"
    }
   ],
   "source": [
    "system.format(school=\"elementary\")"
   ]
  },
  {
   "cell_type": "code",
   "execution_count": 9,
   "id": "46bd3a56",
   "metadata": {},
   "outputs": [
    {
     "name": "stdout",
     "output_type": "stream",
     "text": [
      "input_variables=['points', 'school', 'topics'] input_types={} partial_variables={} messages=[SystemMessagePromptTemplate(prompt=PromptTemplate(input_variables=['school'], input_types={}, partial_variables={}, template='You are {school} teacher. you answer in short sentences.'), additional_kwargs={}), HumanMessagePromptTemplate(prompt=PromptTemplate(input_variables=['points', 'topics'], input_types={}, partial_variables={}, template='tell me about the {topics} in {points} points.'), additional_kwargs={})]\n"
     ]
    }
   ],
   "source": [
    "messages=[system,question]\n",
    "template=ChatPromptTemplate(messages)\n",
    "print(template)"
   ]
  },
  {
   "cell_type": "code",
   "execution_count": 10,
   "id": "cda58abd",
   "metadata": {},
   "outputs": [
    {
     "name": "stdout",
     "output_type": "stream",
     "text": [
      "Question: Tell me 5 interesting facts about the sun.\n",
      "Response: Okay, awesome question! Let’s talk about the Sun – it’s a really amazing place! Here are 5 interesting facts that you might find cool:\n",
      "\n",
      "1. **The Sun is actually a giant ball of burning gas!**  It’s not just a big, yellow lightbulb. It’s made of hydrogen and helium, and it’s constantly moving and getting hotter and brighter! Think of it like a giant, ever-changing campfire.\n",
      "\n",
      "2. **The Sun gives off HUGE amounts of energy!** It’s so powerful that it warms our whole planet!  Without the sun, we wouldn’t be here! It’s like the biggest, brightest flashlight in the universe.\n",
      "\n",
      "3. **The Sun has phases!**  Just like the moon, the sun goes through different shapes. It's called a “sunrise” when it’s a crescent shape, a “full sun” when it’s a bright circle, and a “sunset” when it’s a dark, shrinking circle. \n",
      "\n",
      "4. **It takes the Sun about 10,000 years to reach our planet!** That's a *really* long time for a star! It’s so far away that it’s been shining for billions of years. \n",
      "\n",
      "5. **The Sun has a core that’s super hot!**  Imagine squeezing a huge sponge - it gets incredibly hot inside!  The Sun’s core is so hot that it can melt lead! \n",
      "\n",
      "\n",
      "**Do you want to learn more about any of these facts, or would you like me to tell you about something else related to the sun?** \n",
      "\n",
      "For example, we could talk about:\n",
      "\n",
      "*   How it creates light and heat?\n",
      "*   What causes it to shine?\n"
     ]
    }
   ],
   "source": [
    "from langchain_core.prompts import ChatPromptTemplate, SystemMessagePromptTemplate, HumanMessagePromptTemplate\n",
    "from langchain_core.messages import SystemMessage, HumanMessage\n",
    "\n",
    "# Define templates\n",
    "system_prompt = SystemMessagePromptTemplate.from_template(\n",
    "    \"You are a {school} science teacher. Answer the question so a student can understand.\"\n",
    ")\n",
    "human_prompt = HumanMessagePromptTemplate.from_template(\n",
    "    \"Tell me {points} interesting facts about the {topics}.\"\n",
    ")\n",
    "\n",
    "# Create chat prompt template\n",
    "template = ChatPromptTemplate.from_messages([system_prompt, human_prompt])\n",
    "\n",
    "# Define variables\n",
    "variables = {'school': 'elementary', 'topics': 'sun', 'points': 5}\n",
    "\n",
    "# Generate ChatPromptValue\n",
    "chat_prompt_value = template.invoke(variables)\n",
    "\n",
    "# Convert to list of messages\n",
    "messages = chat_prompt_value.to_messages()\n",
    "\n",
    "# Send to LLM\n",
    "response = llm.invoke(messages)\n",
    "\n",
    "# Print output\n",
    "print(f\"Question: {messages[-1].content}\")  # Last message is typically the human message\n",
    "print(f\"Response: {response.content}\")\n"
   ]
  },
  {
   "cell_type": "code",
   "execution_count": null,
   "id": "1138e204",
   "metadata": {},
   "outputs": [],
   "source": []
  }
 ],
 "metadata": {
  "kernelspec": {
   "display_name": ".venv",
   "language": "python",
   "name": "python3"
  },
  "language_info": {
   "codemirror_mode": {
    "name": "ipython",
    "version": 3
   },
   "file_extension": ".py",
   "mimetype": "text/x-python",
   "name": "python",
   "nbconvert_exporter": "python",
   "pygments_lexer": "ipython3",
   "version": "3.9.6"
  }
 },
 "nbformat": 4,
 "nbformat_minor": 5
}
