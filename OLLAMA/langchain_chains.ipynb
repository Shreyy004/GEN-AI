{
 "cells": [
  {
   "cell_type": "code",
   "execution_count": 2,
   "id": "1f7cbeed",
   "metadata": {},
   "outputs": [],
   "source": [
    "from langchain_ollama import ChatOllama\n",
    "from langchain_core.prompts import(\n",
    "    SystemMessagePromptTemplate,\n",
    "    HumanMessagePromptTemplate,\n",
    "    ChatPromptTemplate\n",
    ")\n",
    "base_url=\"http://localhost:11434\"\n",
    "model=\"gemma3:1b\"\n",
    "llm=ChatOllama(base_url=base_url,model=model)"
   ]
  },
  {
   "cell_type": "code",
   "execution_count": 3,
   "id": "33852412",
   "metadata": {},
   "outputs": [
    {
     "name": "stdout",
     "output_type": "stream",
     "text": [
      "Okay, let’s talk about the Sun! It’s a really amazing place, and here are 5 interesting facts that might surprise you:\n",
      "\n",
      "1. **The Sun is a Giant Furnace:** Seriously, it’s not just a big ball of fire! The Sun is a *massive* ball of gas, mostly hydrogen and helium, that’s constantly burning. It’s like a giant, super-powered oven!\n",
      "\n",
      "2. **It's REALLY Hot!** The Sun’s surface temperature is around 5,500 degrees *Kelvin* – that’s about 2,870 degrees *Fahrenheit*! That’s hot enough to melt lead! \n",
      "\n",
      "3. **It Radiates Light and Heat:** The Sun doesn’t just *glow*; it sends out light and heat. That’s why we can see it during the day!  It’s like it’s constantly shining, warming everything around it.\n",
      "\n",
      "4. **It Has a Magnetic Field:** The Sun has a giant magnetic bubble around it called the corona. It’s super strong and glows brightly, and scientists think this helps protect the Sun from being sucked in by the solar wind!\n",
      "\n",
      "5. **It Takes 10,000 Years to Reach Us!**  The Sun travels to Earth at about 94 million miles per hour! That’s faster than we can run!  It takes that long to get here, which is why we see it as a steady, bright light.\n",
      "\n",
      "**Do you want to know anything else about the Sun, like how it makes its energy, or maybe a cool picture?**\n"
     ]
    }
   ],
   "source": [
    "from langchain_core.prompts import ChatPromptTemplate, SystemMessagePromptTemplate, HumanMessagePromptTemplate\n",
    "from langchain_core.messages import SystemMessage, HumanMessage\n",
    "\n",
    "# Define templates\n",
    "system = SystemMessagePromptTemplate.from_template(\n",
    "    \"You are a {school} science teacher. Answer the question so a student can understand.\"\n",
    ")\n",
    "question = HumanMessagePromptTemplate.from_template(\n",
    "    \"Tell me {points} interesting facts about the {topics}.\"\n",
    ")\n",
    "\n",
    "messages=[system,question]\n",
    "template=ChatPromptTemplate(messages)\n",
    "question=template.invoke( {'school': 'elementary', 'topics': 'sun', 'points': 5})\n",
    "response=llm.invoke(question)\n",
    "print(response.content)\n"
   ]
  },
  {
   "cell_type": "code",
   "execution_count": 4,
   "id": "d0351ab5",
   "metadata": {},
   "outputs": [],
   "source": [
    "system = SystemMessagePromptTemplate.from_template(\n",
    "    \"You are a {school} science teacher. Answer the question so a student can understand.\"\n",
    ")\n",
    "question = HumanMessagePromptTemplate.from_template(\n",
    "    \"Tell me {points} interesting facts about the {topics}.\"\n",
    ")\n",
    "\n",
    "messages=[system,question]\n",
    "template=ChatPromptTemplate(messages)\n",
    "chain=template | llm"
   ]
  },
  {
   "cell_type": "code",
   "execution_count": 5,
   "id": "e140459e",
   "metadata": {},
   "outputs": [
    {
     "name": "stdout",
     "output_type": "stream",
     "text": [
      "Okay, let’s talk about the Sun! It’s a really amazing place, and here are 5 interesting facts that might surprise you:\n",
      "\n",
      "1. **The Sun is a Giant, Burning Ball of Gas!** Seriously, it’s mostly made of hydrogen and helium – think of it like a giant, super-hot, glowing ball of gas! It’s constantly working, just burning through hydrogen and releasing energy.\n",
      "\n",
      "2. **It’s HUGE!** The Sun is HUGE! It’s about 109 times bigger than the Earth! That’s like, a giant marble compared to your house!\n",
      "\n",
      "3. **It Gives Off Light and Heat – That's Why We See It!**  The Sun’s energy is what makes the Earth warm enough for us to live! It shines bright and gives off heat that warms our planet.\n",
      "\n",
      "4. **It Has a Magnetic Field!** Just like superheroes have magnetic powers, the Sun has a magnetic field that’s really strong. It’s like a giant bubble around the Sun that protects it from getting too close to other planets. \n",
      "\n",
      "5. **It's Blooming!** The Sun isn’t always a bright white ball. It goes through different stages called “phases.”  It has a “morning, afternoon, and evening” cycle where it’s a little bit dimmer. \n",
      "\n",
      "\n",
      "Do you want to learn about something else about the Sun, like why it’s important for us or how it works a little differently? 😊\n"
     ]
    }
   ],
   "source": [
    "response=chain.invoke({'school': 'elementary', 'topics': 'sun', 'points': 5})\n",
    "print(response.content)"
   ]
  },
  {
   "cell_type": "code",
   "execution_count": 6,
   "id": "d02110d6",
   "metadata": {},
   "outputs": [
    {
     "name": "stdout",
     "output_type": "stream",
     "text": [
      "Okay, let’s talk about the sun! It’s a really amazing place, and here are five cool facts that you might find interesting:\n",
      "\n",
      "1. **The Sun is a Giant Ball of Fire!** Seriously, it’s not just a big, orange ball. It’s actually made of super hot gas, mostly hydrogen and helium. Think of it like a giant, swirling, fiery oven!\n",
      "\n",
      "2. **It’s REALLY Old!** The sun has been burning for about 4.6 billion years! That’s a *really* long time – longer than all the Earth is old! \n",
      "\n",
      "3. **It Makes Light and Heat with Sunshine!** The sun shines because it’s constantly releasing energy as light and heat. That’s why we feel warm when it’s sunny!\n",
      "\n",
      "4. **It's Changing!** The sun is actually getting bigger and brighter all the time! It's doing this through a process called “nuclear fusion,” which is like a giant, slow explosion happening inside. \n",
      "\n",
      "5. **It has an Atmosphere!** The sun has a layer of gases around it called the corona. It’s super hot and sparkly, and scientists are still trying to figure out exactly what’s inside it! \n",
      "\n",
      "---\n",
      "\n",
      "**Do you want to know more about *why* the sun is important for us, or maybe a specific fact like how it works?** \n",
      "\n",
      "\n"
     ]
    }
   ],
   "source": [
    "from langchain_core.output_parsers import StrOutputParser\n",
    "chain2=template | llm | StrOutputParser()\n",
    "response=chain2.invoke({'school': 'elementary', 'topics': 'sun', 'points': 5})\n",
    "print(response)"
   ]
  },
  {
   "cell_type": "code",
   "execution_count": null,
   "id": "77ef35b8",
   "metadata": {},
   "outputs": [],
   "source": []
  },
  {
   "cell_type": "code",
   "execution_count": null,
   "id": "e79848bc",
   "metadata": {},
   "outputs": [],
   "source": []
  },
  {
   "cell_type": "code",
   "execution_count": null,
   "id": "f427df64",
   "metadata": {},
   "outputs": [],
   "source": []
  },
  {
   "cell_type": "code",
   "execution_count": null,
   "id": "52bf33c6",
   "metadata": {},
   "outputs": [],
   "source": []
  },
  {
   "cell_type": "code",
   "execution_count": null,
   "id": "910f7955",
   "metadata": {},
   "outputs": [],
   "source": []
  },
  {
   "cell_type": "code",
   "execution_count": null,
   "id": "01b2f4b3",
   "metadata": {},
   "outputs": [],
   "source": []
  },
  {
   "cell_type": "code",
   "execution_count": null,
   "id": "83841c2d",
   "metadata": {},
   "outputs": [],
   "source": []
  }
 ],
 "metadata": {
  "kernelspec": {
   "display_name": ".venv",
   "language": "python",
   "name": "python3"
  },
  "language_info": {
   "codemirror_mode": {
    "name": "ipython",
    "version": 3
   },
   "file_extension": ".py",
   "mimetype": "text/x-python",
   "name": "python",
   "nbconvert_exporter": "python",
   "pygments_lexer": "ipython3",
   "version": "3.9.6"
  }
 },
 "nbformat": 4,
 "nbformat_minor": 5
}
