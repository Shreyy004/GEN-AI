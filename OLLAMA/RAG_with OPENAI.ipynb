{
 "cells": [
  {
   "cell_type": "code",
   "execution_count": null,
   "id": "7bba9763",
   "metadata": {},
   "outputs": [],
   "source": [
    "from sentence_transformers import SentenceTransformer\n",
    "model=SentenceTransformer('sentence-transformers/all-apnet-base-v2')\n",
    "sentences=(\"this is an example sentence\")\n",
    "embeddings=model.encode(sentences)\n",
    "print('Sentence embeddings:')\n",
    "print(embeddings)"
   ]
  },
  {
   "cell_type": "code",
   "execution_count": 1,
   "id": "b7b483e4",
   "metadata": {},
   "outputs": [],
   "source": [
    "from PyPDF2 import PdfReader\n",
    "\n"
   ]
  },
  {
   "cell_type": "code",
   "execution_count": null,
   "id": "6ab1ef19",
   "metadata": {},
   "outputs": [
    {
     "name": "stdout",
     "output_type": "stream",
     "text": [
      "COHERE_KEY:  ZnlMbCzCcLd0SIHx76FJ5sciIBRL8OCTbNIyYHf0\n"
     ]
    }
   ],
   "source": [
    "import os\n",
    "from dotenv import load_dotenv\n",
    "COHERE_KEY=os.environ.get(\"\")\n",
    "print(\"COHERE_KEY: \",COHERE_KEY)"
   ]
  },
  {
   "cell_type": "code",
   "execution_count": 3,
   "id": "7ad28e4c",
   "metadata": {},
   "outputs": [],
   "source": [
    "from langchain.embeddings import CohereEmbeddings\n",
    "from langchain.text_splitter import CharacterTextSplitter\n",
    "from langchain.vectorstores import FAISS\n"
   ]
  },
  {
   "cell_type": "code",
   "execution_count": 4,
   "id": "d6138c46",
   "metadata": {},
   "outputs": [
    {
     "name": "stderr",
     "output_type": "stream",
     "text": [
      "C:\\Users\\HP\\AppData\\Local\\Temp\\ipykernel_19368\\3560409958.py:1: LangChainDeprecationWarning: The class `CohereEmbeddings` was deprecated in LangChain 0.0.30 and will be removed in 1.0. An updated version of the class exists in the :class:`~langchain-cohere package and should be used instead. To use it run `pip install -U :class:`~langchain-cohere` and import as `from :class:`~langchain_cohere import CohereEmbeddings``.\n",
      "  embeddings=CohereEmbeddings(\n"
     ]
    }
   ],
   "source": [
    "embeddings=CohereEmbeddings(\n",
    "    cohere_api_key=COHERE_KEY,\n",
    "    model=\"embed-english-v3.0\",  \n",
    "    user_agent=\"langchain\" )"
   ]
  },
  {
   "cell_type": "code",
   "execution_count": 5,
   "id": "f281585a",
   "metadata": {},
   "outputs": [],
   "source": [
    "def load_pdfs(pdfs):\n",
    "    text_chunks=[]\n",
    "    for pdf in pdfs:\n",
    "        reader=PdfReader(pdf)\n",
    "        for page in reader.pages:\n",
    "            raw=page.extract_text()\n",
    "            chunks=split_paragraph(raw)\n",
    "            text_chunks=chunks\n",
    "    return text_chunks\n",
    "\n",
    "\n",
    "def split_paragraph(rawText):\n",
    "    text_splitter=CharacterTextSplitter(\n",
    "        separator=\"\\n\",\n",
    "        chunk_size=200,\n",
    "        chunk_overlap=30,\n",
    "        length_function=len,\n",
    "        is_separator_regex=False,\n",
    "    )\n",
    "    return text_splitter.split_text(rawText)"
   ]
  },
  {
   "cell_type": "code",
   "execution_count": 6,
   "id": "eb647ad7",
   "metadata": {},
   "outputs": [],
   "source": [
    "list_of_pdfs={\"1. dietary supplements - for whom.pdf\"}\n",
    "text_chunks=load_pdfs(list_of_pdfs)"
   ]
  },
  {
   "cell_type": "code",
   "execution_count": 7,
   "id": "fde12582",
   "metadata": {},
   "outputs": [
    {
     "data": {
      "text/plain": [
       "['Int. J. Environ. Res. Public Health 2021 ,18, 8897 17 of 24\\n“therapeutic” doses of nutrients should not be used in food preparations. Moreover, Polish',\n",
       " 'pharmaceutical law clearly emphasizes that in the case of a product that meets the criteria\\nfor classiﬁcation both as a medicinal product and as a dietary supplement, the provisions of',\n",
       " 'pharmaceutical legislation, rather than food regulations, should be applied [ 147]. Currently,\\nthe dose of active ingredients is an important criterion in the registration process of dietary',\n",
       " 'supplements [ 148]. It is also worth remembering that labeling and advertising of dietary\\nsupplements can neither imply nor make claims about the product’s preventive and/or',\n",
       " 'therapeutic properties, which is consistent with food law and the regulations governing\\nall foodstuffs [ 149]. Therefore, dietary supplement packaging may not contain informa-',\n",
       " 'tion such as “for cancer prevention” or “for reducing cholesterol”. However, although\\nsuch requirements have long been in food legislation, the practice of portraying dietary',\n",
       " 'supplements as products that quickly alleviate the symptoms of numerous health con-\\nditions, both by labelling and advertising methods, is relatively common [ 143,150–152].',\n",
       " 'Unsurprisingly, the public often ﬁnds it difﬁcult to differentiate between supplements and\\ndrugs [ 5,12] and uses the former to treat various medical conditions [ 128,153,154]. Such',\n",
       " 'practices have been observed even in the US, where manufacturers are legally obligated to\\ninclude the information “This product is not intended to diagnose, treat, cure, or prevent any',\n",
       " 'disease” [9,128] on labels, unlike in the European Union. According to various authors,\\nknowledge about supplements among some physicians and pharmacists also leaves much',\n",
       " 'to be desired [ 155,156]. It is worth mentioning here that in Poland, considering the popular\\nmisconception that dietary supplements are drugs, as of 1 January 2020, self-regulation of',\n",
       " 'TV broadcasting companies and supplement manufacturers [ 157] was introduced. The new\\nregulations have introduced several important changes for TV advertising, chief among',\n",
       " 'them the rule that every advertisement is required to include the following statement on\\nscreen: “Dietary supplement; contains ingredients which support physiological functions of the',\n",
       " 'body by supplementing a typical diet; has no medicinal properties .”\\nConsidering the impact of dietary supplements on people’s health, it is important to',\n",
       " 'remember that the results of short-term studies do not provide irrefutable data on their\\neffectiveness and that even long-term studies, where lifestyle factors change over time and',\n",
       " 'inﬂuence a person’s health, also pose a problem. When interpreting the results of research\\non intake of vitamin and mineral preparations, especially multivitamin–mineral supple-',\n",
       " 'ments, it should also be remembered that there is a considerable degree of heterogeneity in\\nsupplement ingredients and amounts of nutrients because the composition of supplements',\n",
       " 'is not directly regulated by law. Therefore, individual preparations may signiﬁcantly differ\\nfrom each other in dose and composition of ingredients, thus affecting research results.',\n",
       " 'In addition, it should be noted that administering vitamin and mineral supplements to\\nthe study group does not mean that the control group did not gain appropriate levels of',\n",
       " 'these ingredients from their daily diets, and thus does not mean that the control group\\nwas at risk of hypovitaminosis. Therefore, identifying the potential beneﬁts of supplying',\n",
       " 'nutrients in addition to the body’s normal requirements is difﬁcult.\\nThe author of this paper is aware of the limitations and issues in the cited studies and',\n",
       " 'consequently is aware that this is not a systematic review. Therefore, it cannot be ruled\\nout that some publications, possibly presenting different research results, may have been',\n",
       " 'omitted. However, the author has made every effort to include as many publications as\\npossible, including randomized controlled trials and meta-analyses, and to discuss the',\n",
       " 'individual issues in the paper in a balanced way, bearing in mind the length of the paper.\\nBecause of the widely different categories of dietary supplements, the article does not',\n",
       " 'address the health effects of all, e.g., probiotics or polyphenols; thus, the author does not\\npresent an exhaustive discussion of the health effects resulting from taking supplements.\\n5. Conclusions',\n",
       " '5. Conclusions\\nIn the absence of clinical trials conducted by the manufacturers of dietary supplements\\nprior to their supplements being introduced to the market, being able to understand the',\n",
       " 'health effects of using such preparations is an important public health issue. Most of']"
      ]
     },
     "execution_count": 7,
     "metadata": {},
     "output_type": "execute_result"
    }
   ],
   "source": [
    "text_chunks"
   ]
  },
  {
   "cell_type": "code",
   "execution_count": 9,
   "id": "bdf48f3a",
   "metadata": {},
   "outputs": [],
   "source": [
    "store=FAISS.from_texts(text_chunks,embeddings)"
   ]
  },
  {
   "cell_type": "code",
   "execution_count": 10,
   "id": "da1d7270",
   "metadata": {},
   "outputs": [],
   "source": [
    "store.save_local(\"./myVectorStore\")"
   ]
  },
  {
   "cell_type": "code",
   "execution_count": 12,
   "id": "cf353f10",
   "metadata": {},
   "outputs": [],
   "source": [
    "from langchain_cohere import ChatCohere\n",
    "from langchain_community.vectorstores import FAISS\n",
    "from langchain_community.embeddings import CohereEmbeddings\n",
    "from langchain.chains import RetrievalQA"
   ]
  },
  {
   "cell_type": "code",
   "execution_count": null,
   "id": "f72739b4",
   "metadata": {},
   "outputs": [
    {
     "name": "stderr",
     "output_type": "stream",
     "text": [
      "C:\\Users\\HP\\AppData\\Local\\Temp\\ipykernel_19368\\3604371594.py:11: LangChainDeprecationWarning: The method `Chain.__call__` was deprecated in langchain 0.1.0 and will be removed in 1.0. Use :meth:`~invoke` instead.\n",
      "  result=chain({\"query\" : \"Can consuming multi vitamin and minerals reduce my blood pressure?\"}\n"
     ]
    },
    {
     "name": "stdout",
     "output_type": "stream",
     "text": [
      "{'query': 'Can consuming multi vitamin and minerals reduce my blood pressure?', 'result': \"Based on the provided context, there is no direct information to suggest that consuming multi-vitamin and mineral supplements can reduce blood pressure. The text emphasizes the importance of interpreting research on vitamin and mineral preparations carefully, noting that the control group in studies may already have appropriate levels of these nutrients from their daily diets. It also highlights that supplements are not intended to have medicinal properties.\\n\\nTo determine if multi-vitamin and mineral supplements can reduce blood pressure, you would need to consult specific studies or medical research focused on this topic. If you're considering supplements for blood pressure management, it's best to consult a healthcare professional for personalized advice.\"}\n"
     ]
    }
   ],
   "source": [
    "store=FAISS.load_local(\"myVectorStore\",embeddings,allow_dangerous_deserialization=True)\n",
    "llm = ChatCohere(\n",
    "    cohere_api_key=\"\",\n",
    "    model=\"command-xlarge-nightly\",   \n",
    "    temperature=0.7)\n",
    "\n",
    "chain=RetrievalQA.from_chain_type(\n",
    "    llm=llm,\n",
    "    retriever=store.as_retriever()\n",
    ")\n",
    "result=chain({\"query\" : \"Can consuming multi vitamin and minerals reduce my blood pressure?\"}\n",
    "             )\n",
    "print(result)\n"
   ]
  },
  {
   "cell_type": "code",
   "execution_count": null,
   "id": "ebc6d0ae",
   "metadata": {},
   "outputs": [],
   "source": []
  }
 ],
 "metadata": {
  "kernelspec": {
   "display_name": ".venv",
   "language": "python",
   "name": "python3"
  },
  "language_info": {
   "codemirror_mode": {
    "name": "ipython",
    "version": 3
   },
   "file_extension": ".py",
   "mimetype": "text/x-python",
   "name": "python",
   "nbconvert_exporter": "python",
   "pygments_lexer": "ipython3",
   "version": "3.9.6"
  }
 },
 "nbformat": 4,
 "nbformat_minor": 5
}
