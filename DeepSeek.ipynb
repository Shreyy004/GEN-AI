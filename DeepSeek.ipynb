{
  "nbformat": 4,
  "nbformat_minor": 0,
  "metadata": {
    "colab": {
      "provenance": []
    },
    "kernelspec": {
      "name": "python3",
      "display_name": "Python 3"
    },
    "language_info": {
      "name": "python"
    }
  },
  "cells": [
    {
      "cell_type": "code",
      "execution_count": null,
      "metadata": {
        "id": "bydnjJ_1fyGK",
        "colab": {
          "base_uri": "https://localhost:8080/"
        },
        "outputId": "f402a99d-a42f-473a-e610-2474df0889ba"
      },
      "outputs": [
        {
          "output_type": "stream",
          "name": "stdout",
          "text": [
            "\u001b[?25l   \u001b[90m━━━━━━━━━━━━━━━━━━━━━━━━━━━━━━━━━━━━━━━━\u001b[0m \u001b[32m0.0/54.7 kB\u001b[0m \u001b[31m?\u001b[0m eta \u001b[36m-:--:--\u001b[0m\r\u001b[2K   \u001b[90m━━━━━━━━━━━━━━━━━━━━━━━━━━━━━━━━━━━━━━━━\u001b[0m \u001b[32m54.7/54.7 kB\u001b[0m \u001b[31m2.8 MB/s\u001b[0m eta \u001b[36m0:00:00\u001b[0m\n",
            "\u001b[?25h\u001b[?25l   \u001b[90m━━━━━━━━━━━━━━━━━━━━━━━━━━━━━━━━━━━━━━━━\u001b[0m \u001b[32m0.0/413.0 kB\u001b[0m \u001b[31m?\u001b[0m eta \u001b[36m-:--:--\u001b[0m\r\u001b[2K   \u001b[90m━━━━━━━━━━━━━━━━━━━━━━━━━━━━━━━━━━━━━━━━\u001b[0m \u001b[32m413.0/413.0 kB\u001b[0m \u001b[31m18.6 MB/s\u001b[0m eta \u001b[36m0:00:00\u001b[0m\n",
            "\u001b[?25h\u001b[?25l   \u001b[90m━━━━━━━━━━━━━━━━━━━━━━━━━━━━━━━━━━━━━━━━\u001b[0m \u001b[32m0.0/1.2 MB\u001b[0m \u001b[31m?\u001b[0m eta \u001b[36m-:--:--\u001b[0m\r\u001b[2K   \u001b[90m━━━━━━━━━━━━━━━━━━━━━━━━━━━━━━━━━━━━━━━━\u001b[0m \u001b[32m1.2/1.2 MB\u001b[0m \u001b[31m34.4 MB/s\u001b[0m eta \u001b[36m0:00:00\u001b[0m\n",
            "\u001b[?25h"
          ]
        }
      ],
      "source": [
        "!pip install langchain --quiet\n",
        "!pip install -qU langchain-deepseek"
      ]
    },
    {
      "cell_type": "code",
      "source": [
        "import os\n",
        "from google.colab import userdata\n",
        "os.environ['DEEPSEEK_API_KEY'] = userdata.get(\"DEEPSEEK_API_KEY\")"
      ],
      "metadata": {
        "id": "Ty159oCYhrbT"
      },
      "execution_count": null,
      "outputs": []
    },
    {
      "cell_type": "markdown",
      "source": [
        "#Basic Prompt"
      ],
      "metadata": {
        "id": "z94pHd_9tas5"
      }
    },
    {
      "cell_type": "code",
      "source": [
        "from langchain_deepseek import ChatDeepSeek\n",
        "\n",
        "llm = ChatDeepSeek(model='deepseek-chat')\n",
        "result=llm.invoke(\"What are the ways to improve the mood? Give me the output in bullet points\")\n",
        "print(result)"
      ],
      "metadata": {
        "colab": {
          "base_uri": "https://localhost:8080/"
        },
        "id": "LDjl6X96kf9W",
        "outputId": "6a73a42c-0b03-4f89-f890-dfddfd4c4eda"
      },
      "execution_count": null,
      "outputs": [
        {
          "output_type": "stream",
          "name": "stdout",
          "text": [
            "content=\"Here are some effective ways to improve your mood:\\n\\n- **Exercise Regularly**: Engage in physical activities like walking, jogging, yoga, or dancing to release endorphins and reduce stress.  \\n- **Practice Gratitude**: Write down or reflect on things you’re grateful for to shift your focus to positive aspects of life.  \\n- **Connect with Others**: Spend time with friends, family, or loved ones to foster a sense of belonging and support.  \\n- **Get Enough Sleep**: Prioritize restful sleep to recharge your body and mind.  \\n- **Listen to Music**: Play your favorite uplifting songs to boost your mood.  \\n- **Spend Time in Nature**: Go for a walk in a park, hike, or simply sit outside to enjoy fresh air and sunlight.  \\n- **Meditate or Practice Mindfulness**: Focus on the present moment to reduce anxiety and improve emotional well-being.  \\n- **Engage in a Hobby**: Do something you enjoy, like painting, cooking, gardening, or reading.  \\n- **Eat Mood-Boosting Foods**: Consume foods rich in omega-3s, antioxidants, and vitamins, such as nuts, berries, and dark chocolate.  \\n- **Laugh More**: Watch a funny movie, read jokes, or spend time with people who make you laugh.  \\n- **Help Others**: Volunteer or perform acts of kindness to create a sense of purpose and fulfillment.  \\n- **Limit Screen Time**: Reduce exposure to negative news or social media that may contribute to stress.  \\n- **Practice Deep Breathing**: Use breathing exercises to calm your mind and reduce tension.  \\n- **Declutter Your Space**: Organize your environment to create a sense of calm and control.  \\n- **Set Small Goals**: Accomplish achievable tasks to build confidence and a sense of achievement.  \\n- **Seek Professional Help**: If needed, talk to a therapist or counselor for support and guidance.  \\n\\nLet me know if you'd like more details on any of these!\" additional_kwargs={'refusal': None} response_metadata={'token_usage': {'completion_tokens': 406, 'prompt_tokens': 19, 'total_tokens': 425, 'completion_tokens_details': None, 'prompt_tokens_details': {'audio_tokens': None, 'cached_tokens': 0}, 'prompt_cache_hit_tokens': 0, 'prompt_cache_miss_tokens': 19}, 'model_name': 'deepseek-chat', 'system_fingerprint': 'fp_3a5770e1b4', 'finish_reason': 'stop', 'logprobs': None} id='run-74e8278d-1253-4b78-b89a-3c94be77127a-0' usage_metadata={'input_tokens': 19, 'output_tokens': 406, 'total_tokens': 425, 'input_token_details': {'cache_read': 0}, 'output_token_details': {}}\n"
          ]
        }
      ]
    },
    {
      "cell_type": "markdown",
      "source": [
        "# RAG Application"
      ],
      "metadata": {
        "id": "86O_EqZqtc2c"
      }
    },
    {
      "cell_type": "code",
      "source": [
        "os.environ['OPENAI_API_KEY'] = userdata.get(\"OPENAI_API_KEY\")"
      ],
      "metadata": {
        "id": "d8egVvjiuSu8"
      },
      "execution_count": null,
      "outputs": []
    },
    {
      "cell_type": "code",
      "source": [
        "!pip install langchain-community --quiet\n",
        "!pip install tiktoken --quiet\n",
        "!pip install chromadb --quiet\n",
        "!pip install pypdf --quiet\n",
        "!pip install langchain-openai --quiet\n"
      ],
      "metadata": {
        "colab": {
          "base_uri": "https://localhost:8080/"
        },
        "id": "H2pk09gxtq49",
        "outputId": "85541a1e-3347-44ba-b5b4-d91e1ee5b0f9"
      },
      "execution_count": null,
      "outputs": [
        {
          "output_type": "stream",
          "name": "stdout",
          "text": [
            "\u001b[?25l   \u001b[90m━━━━━━━━━━━━━━━━━━━━━━━━━━━━━━━━━━━━━━━━\u001b[0m \u001b[32m0.0/2.5 MB\u001b[0m \u001b[31m?\u001b[0m eta \u001b[36m-:--:--\u001b[0m\r\u001b[2K   \u001b[91m━━━━━━━━━━━━━━━━━━━━━━━━━━━━━━━━━━━━━━━\u001b[0m\u001b[91m╸\u001b[0m \u001b[32m2.5/2.5 MB\u001b[0m \u001b[31m152.0 MB/s\u001b[0m eta \u001b[36m0:00:01\u001b[0m\r\u001b[2K   \u001b[90m━━━━━━━━━━━━━━━━━━━━━━━━━━━━━━━━━━━━━━━━\u001b[0m \u001b[32m2.5/2.5 MB\u001b[0m \u001b[31m67.1 MB/s\u001b[0m eta \u001b[36m0:00:00\u001b[0m\n",
            "\u001b[2K   \u001b[90m━━━━━━━━━━━━━━━━━━━━━━━━━━━━━━━━━━━━━━━━\u001b[0m \u001b[32m1.0/1.0 MB\u001b[0m \u001b[31m51.5 MB/s\u001b[0m eta \u001b[36m0:00:00\u001b[0m\n",
            "\u001b[2K   \u001b[90m━━━━━━━━━━━━━━━━━━━━━━━━━━━━━━━━━━━━━━━━\u001b[0m \u001b[32m50.9/50.9 kB\u001b[0m \u001b[31m3.9 MB/s\u001b[0m eta \u001b[36m0:00:00\u001b[0m\n",
            "\u001b[?25h"
          ]
        }
      ]
    },
    {
      "cell_type": "code",
      "source": [
        "from langchain.vectorstores import Chroma\n",
        "from langchain.document_loaders import PyPDFLoader\n",
        "from langchain.embeddings import OpenAIEmbeddings\n",
        "from langchain.chains import RetrievalQA\n",
        "from langchain.llms import OpenAI\n",
        "from langchain.llms import Cohere"
      ],
      "metadata": {
        "id": "X-fRGAmZtw_P"
      },
      "execution_count": null,
      "outputs": []
    },
    {
      "cell_type": "code",
      "source": [
        "# Step-1:Document Loading\n",
        "from langchain.document_loaders import PyPDFLoader\n",
        "!wget https://raw.githubusercontent.com/venkatareddykonasani/Datasets/master/Banking_System_Doc/BASEL.pdf\n",
        "loader = PyPDFLoader(\"BASEL.pdf\")\n",
        "pages = loader.load()\n",
        "print(len(pages))\n",
        "\n",
        "#Step-2:Split the data into Chunks\n",
        "\n",
        "from langchain.text_splitter import RecursiveCharacterTextSplitter\n",
        "text_splitter = RecursiveCharacterTextSplitter(chunk_size=500, chunk_overlap=50)\n",
        "chunks = text_splitter.split_documents(pages)\n",
        "print(len(chunks))\n",
        "\n",
        "#Step-3: Creating Embeddings\n",
        "from langchain.embeddings import OpenAIEmbeddings, CohereEmbeddings\n",
        "embeddings = OpenAIEmbeddings()\n",
        "\n",
        "#Step-4: Storing in a Vector DB\n",
        "#!rm -rf basel_norms_db\n",
        "basel_norms_db= Chroma.from_documents(chunks,\n",
        "                                    embeddings,\n",
        "                                    persist_directory=\"basel_norms_db\"\n",
        "                          )\n",
        "basel_norms_db.persist()"
      ],
      "metadata": {
        "colab": {
          "base_uri": "https://localhost:8080/"
        },
        "id": "VSo2T7Ocio2p",
        "outputId": "9832e5f8-6cd9-4f7b-d60e-96a41107605f"
      },
      "execution_count": null,
      "outputs": [
        {
          "output_type": "stream",
          "name": "stdout",
          "text": [
            "--2025-02-11 11:26:03--  https://raw.githubusercontent.com/venkatareddykonasani/Datasets/master/Banking_System_Doc/BASEL.pdf\n",
            "Resolving raw.githubusercontent.com (raw.githubusercontent.com)... 185.199.108.133, 185.199.109.133, 185.199.110.133, ...\n",
            "Connecting to raw.githubusercontent.com (raw.githubusercontent.com)|185.199.108.133|:443... connected.\n",
            "HTTP request sent, awaiting response... 200 OK\n",
            "Length: 1260197 (1.2M) [application/octet-stream]\n",
            "Saving to: ‘BASEL.pdf.2’\n",
            "\n",
            "\rBASEL.pdf.2           0%[                    ]       0  --.-KB/s               \rBASEL.pdf.2         100%[===================>]   1.20M  --.-KB/s    in 0.01s   \n",
            "\n",
            "2025-02-11 11:26:04 (105 MB/s) - ‘BASEL.pdf.2’ saved [1260197/1260197]\n",
            "\n",
            "77\n",
            "521\n"
          ]
        },
        {
          "output_type": "stream",
          "name": "stderr",
          "text": [
            "<ipython-input-29-724cd4ef971e>:25: LangChainDeprecationWarning: Since Chroma 0.4.x the manual persistence method is no longer supported as docs are automatically persisted.\n",
            "  basel_norms_db.persist()\n"
          ]
        }
      ]
    },
    {
      "cell_type": "code",
      "source": [
        "#Step-5 Retrieval\n",
        "\n",
        "retriever = basel_norms_db.as_retriever()\n",
        "result=retriever.get_relevant_documents(\"What percentage is the minimum Capital Requirements\",\n",
        "                                        )\n",
        "print(result)\n",
        "print(len(result))\n",
        "print([i.metadata for i in result])"
      ],
      "metadata": {
        "colab": {
          "base_uri": "https://localhost:8080/"
        },
        "id": "GrLiYBSUug8M",
        "outputId": "5f10c950-6b3d-4b52-a469-05bdefb6c2c7"
      },
      "execution_count": null,
      "outputs": [
        {
          "output_type": "stream",
          "name": "stdout",
          "text": [
            "[Document(metadata={'agenda item1': '', 'author': 'Basel Committee on Banking Supervision', 'comments': '', 'company': '', 'contenttype': 'Document', 'creationdate': '2011-05-31T11:52:06+02:00', 'creator': 'Acrobat PDFMaker 9.1 for Word', 'description0': '', 'doc #': '', 'keywords': '', 'meeting': '2010 - 138th Meeting of the BCBS November-December 2010', 'moddate': '2019-11-14T17:33:29+01:00', 'page': 67, 'page_label': '68', 'producer': 'Acrobat Distiller 9.4.0 (Windows)', 'sort order': '0.110000000000000', 'source': 'BASEL.pdf', 'subject': 'Full text of \"Basel III: A global regulatory framework for more resilient banks and banking systems - post BCBS meeting - revised version\", June 2011', 'title': 'Basel III: A global regulatory framework for more resilient banks and banking systems - post BCBS meeting - revised version June 2011', 'total_pages': 77}, page_content='capital) \\nMinimum Capital Conservation Ratios \\n(expressed as a percentage of earnings) \\n4.5% -  5.75% 100% \\n>5.75% - 7.0% 80% \\n>7.0% - 8.25% 60% \\n>8.25%  - 9.5% 40% \\n> 9.5% 0% \\n \\nE. Frequency of calculation and disclosure \\n149.  Banks must ensure that their countercyclical buffer requirements are calculated and \\npublically disclosed with at least the same frequency as their minimum capital requirements.'), Document(metadata={'agenda item1': '', 'author': 'Basel Committee on Banking Supervision', 'comments': '', 'company': '', 'contenttype': 'Document', 'creationdate': '2011-05-31T11:52:06+02:00', 'creator': 'Acrobat PDFMaker 9.1 for Word', 'description0': '', 'doc #': '', 'keywords': '', 'meeting': '2010 - 138th Meeting of the BCBS November-December 2010', 'moddate': '2019-11-14T17:33:29+01:00', 'page': 35, 'page_label': '36', 'producer': 'Acrobat Distiller 9.4.0 (Windows)', 'sort order': '0.110000000000000', 'source': 'BASEL.pdf', 'subject': 'Full text of \"Basel III: A global regulatory framework for more resilient banks and banking systems - post BCBS meeting - revised version\", June 2011', 'title': 'Basel III: A global regulatory framework for more resilient banks and banking systems - post BCBS meeting - revised version June 2011', 'total_pages': 77}, page_content='requirement of 5.5%. On 1 January 2015, banks will have to meet the 4.5% \\nCommon Equity Tier 1 and the 6% Tier 1 requirements. The total capital \\nrequirement remains at the existing level of 8.0% and so does not need to be \\nphased in. The difference between the total capital requirement of 8.0% and the \\nTier 1 requirement can be met with Tier 2 and higher forms of capital.  \\n(c) The regulatory adjustments (ie deductions and prudential filters), including amounts'), Document(metadata={'agenda item1': '', 'author': 'Basel Committee on Banking Supervision', 'comments': '', 'company': '', 'contenttype': 'Document', 'creationdate': '2011-05-31T11:52:06+02:00', 'creator': 'Acrobat PDFMaker 9.1 for Word', 'description0': '', 'doc #': '', 'keywords': '', 'meeting': '2010 - 138th Meeting of the BCBS November-December 2010', 'moddate': '2019-11-14T17:33:29+01:00', 'page': 62, 'page_label': '63', 'producer': 'Acrobat Distiller 9.4.0 (Windows)', 'sort order': '0.110000000000000', 'source': 'BASEL.pdf', 'subject': 'Full text of \"Basel III: A global regulatory framework for more resilient banks and banking systems - post BCBS meeting - revised version\", June 2011', 'title': 'Basel III: A global regulatory framework for more resilient banks and banking systems - post BCBS meeting - revised version June 2011', 'total_pages': 77}, page_content='minimum capital requirement. \\n                                                 \\n47  Common Equity Tier 1 must first be used to meet the minimum capital requirements (including the 6% Tier 1 \\nand 8% Total capital requirements if necessary), before the remainder can contribute to the capital \\nconservation buffer. \\nNote: Basel III revisions published in December 2017 affect parts of this publication. https://www.bis.org/bcbs/publ/d424.htm'), Document(metadata={'agenda item1': '', 'author': 'Basel Committee on Banking Supervision', 'comments': '', 'company': '', 'contenttype': 'Document', 'creationdate': '2011-05-31T11:52:06+02:00', 'creator': 'Acrobat PDFMaker 9.1 for Word', 'description0': '', 'doc #': '', 'keywords': '', 'meeting': '2010 - 138th Meeting of the BCBS November-December 2010', 'moddate': '2019-11-14T17:33:29+01:00', 'page': 66, 'page_label': '67', 'producer': 'Acrobat Distiller 9.4.0 (Windows)', 'sort order': '0.110000000000000', 'source': 'BASEL.pdf', 'subject': 'Full text of \"Basel III: A global regulatory framework for more resilient banks and banking systems - post BCBS meeting - revised version\", June 2011', 'title': 'Basel III: A global regulatory framework for more resilient banks and banking systems - post BCBS meeting - revised version June 2011', 'total_pages': 77}, page_content='to meet the 4.5% minimum Common Equity Tier 1 requirement, but excludes any additional Common Equity \\nTier 1 needed to meet the 6% Tier 1 and 8% Total Capital requirements. \\nNote: Basel III revisions published in December 2017 affect parts of this publication. https://www.bis.org/bcbs/publ/d424.htm')]\n",
            "4\n",
            "[{'agenda item1': '', 'author': 'Basel Committee on Banking Supervision', 'comments': '', 'company': '', 'contenttype': 'Document', 'creationdate': '2011-05-31T11:52:06+02:00', 'creator': 'Acrobat PDFMaker 9.1 for Word', 'description0': '', 'doc #': '', 'keywords': '', 'meeting': '2010 - 138th Meeting of the BCBS November-December 2010', 'moddate': '2019-11-14T17:33:29+01:00', 'page': 67, 'page_label': '68', 'producer': 'Acrobat Distiller 9.4.0 (Windows)', 'sort order': '0.110000000000000', 'source': 'BASEL.pdf', 'subject': 'Full text of \"Basel III: A global regulatory framework for more resilient banks and banking systems - post BCBS meeting - revised version\", June 2011', 'title': 'Basel III: A global regulatory framework for more resilient banks and banking systems - post BCBS meeting - revised version June 2011', 'total_pages': 77}, {'agenda item1': '', 'author': 'Basel Committee on Banking Supervision', 'comments': '', 'company': '', 'contenttype': 'Document', 'creationdate': '2011-05-31T11:52:06+02:00', 'creator': 'Acrobat PDFMaker 9.1 for Word', 'description0': '', 'doc #': '', 'keywords': '', 'meeting': '2010 - 138th Meeting of the BCBS November-December 2010', 'moddate': '2019-11-14T17:33:29+01:00', 'page': 35, 'page_label': '36', 'producer': 'Acrobat Distiller 9.4.0 (Windows)', 'sort order': '0.110000000000000', 'source': 'BASEL.pdf', 'subject': 'Full text of \"Basel III: A global regulatory framework for more resilient banks and banking systems - post BCBS meeting - revised version\", June 2011', 'title': 'Basel III: A global regulatory framework for more resilient banks and banking systems - post BCBS meeting - revised version June 2011', 'total_pages': 77}, {'agenda item1': '', 'author': 'Basel Committee on Banking Supervision', 'comments': '', 'company': '', 'contenttype': 'Document', 'creationdate': '2011-05-31T11:52:06+02:00', 'creator': 'Acrobat PDFMaker 9.1 for Word', 'description0': '', 'doc #': '', 'keywords': '', 'meeting': '2010 - 138th Meeting of the BCBS November-December 2010', 'moddate': '2019-11-14T17:33:29+01:00', 'page': 62, 'page_label': '63', 'producer': 'Acrobat Distiller 9.4.0 (Windows)', 'sort order': '0.110000000000000', 'source': 'BASEL.pdf', 'subject': 'Full text of \"Basel III: A global regulatory framework for more resilient banks and banking systems - post BCBS meeting - revised version\", June 2011', 'title': 'Basel III: A global regulatory framework for more resilient banks and banking systems - post BCBS meeting - revised version June 2011', 'total_pages': 77}, {'agenda item1': '', 'author': 'Basel Committee on Banking Supervision', 'comments': '', 'company': '', 'contenttype': 'Document', 'creationdate': '2011-05-31T11:52:06+02:00', 'creator': 'Acrobat PDFMaker 9.1 for Word', 'description0': '', 'doc #': '', 'keywords': '', 'meeting': '2010 - 138th Meeting of the BCBS November-December 2010', 'moddate': '2019-11-14T17:33:29+01:00', 'page': 66, 'page_label': '67', 'producer': 'Acrobat Distiller 9.4.0 (Windows)', 'sort order': '0.110000000000000', 'source': 'BASEL.pdf', 'subject': 'Full text of \"Basel III: A global regulatory framework for more resilient banks and banking systems - post BCBS meeting - revised version\", June 2011', 'title': 'Basel III: A global regulatory framework for more resilient banks and banking systems - post BCBS meeting - revised version June 2011', 'total_pages': 77}]\n"
          ]
        }
      ]
    },
    {
      "cell_type": "code",
      "source": [
        "#Step-6 Retrieval Q and A\n",
        "from langchain.chains import RetrievalQA\n",
        "#llm=OpenAI()\n",
        "#llm=Cohere()\n",
        "llm = ChatDeepSeek(model='deepseek-chat')\n",
        "\n",
        "\n",
        "Q_AChain=RetrievalQA.from_chain_type(\n",
        "    llm=llm,\n",
        "    chain_type=\"stuff\",# It takes a list of documents, inserts them all into a prompt\n",
        "    retriever=retriever\n",
        ")\n",
        "\n",
        "query=\"What percentage is the minimum Capital Requirements?\"\n",
        "docs=Q_AChain({\"query\":query})\n",
        "print(docs[\"result\"])"
      ],
      "metadata": {
        "colab": {
          "base_uri": "https://localhost:8080/"
        },
        "id": "oVxUZmQkw4ja",
        "outputId": "574f7557-903c-4414-eb25-b15dc4b414c7"
      },
      "execution_count": null,
      "outputs": [
        {
          "output_type": "stream",
          "name": "stdout",
          "text": [
            " The minimum Capital Requirements are expressed as a percentage of earnings, with the lowest being 4.5% and the highest being 9.5%. The specific percentage required for each bank will depend on their earnings and other factors.\n"
          ]
        }
      ]
    },
    {
      "cell_type": "code",
      "source": [],
      "metadata": {
        "id": "1gLTE5OpxTxk"
      },
      "execution_count": null,
      "outputs": []
    }
  ]
}